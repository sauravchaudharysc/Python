{
 "cells": [
  {
   "cell_type": "markdown",
   "metadata": {},
   "source": [
    "# Histogram"
   ]
  },
  {
   "cell_type": "code",
   "execution_count": 1,
   "metadata": {},
   "outputs": [],
   "source": [
    "import numpy as np\n",
    "import matplotlib.pyplot as plt"
   ]
  },
  {
   "cell_type": "code",
   "execution_count": 2,
   "metadata": {},
   "outputs": [],
   "source": [
    "xsn = np.random.randn?"
   ]
  },
  {
   "cell_type": "code",
   "execution_count": 3,
   "metadata": {},
   "outputs": [],
   "source": [
    "xsn = np.random.randn(100)"
   ]
  },
  {
   "cell_type": "code",
   "execution_count": 4,
   "metadata": {},
   "outputs": [
    {
     "name": "stdout",
     "output_type": "stream",
     "text": [
      "[-0.46310526 -1.00011391 -0.21016411  0.00584194  1.34526455 -0.05254496\n",
      "  0.19989661  0.36545245 -0.68893739  0.80718867  0.49814865 -0.22471553\n",
      " -0.33628885  0.17201909 -0.96962896  0.16380889  0.07331915 -0.18167521\n",
      "  1.16934891 -0.1220012  -0.11669623  2.96652854 -1.07826824  0.21272361\n",
      " -0.39370462 -0.08665082 -0.60541506  0.34668308  0.03994821 -0.52025444\n",
      " -0.71698858 -0.23825621  0.95561634  0.86838345 -0.0208373   0.99289579\n",
      " -0.18279649  1.19154374 -1.87010251 -0.51748617 -0.60543526  1.00211096\n",
      " -1.07037327  1.28355604  0.23271376 -1.52043312 -0.80900168  1.91374003\n",
      " -0.60441297 -1.06810389  1.35896781 -1.46651661  0.50510195 -0.66495169\n",
      "  0.41676955  0.45467817  0.19940046  0.4265515  -0.07118281  1.68246713\n",
      "  0.97581927  0.42051389  0.60071629  0.02284867  0.50968198  0.68419069\n",
      " -0.0473917   0.30892352  1.51084671  0.26740821 -0.36577371  1.48852134\n",
      "  0.93457711  0.41965388  0.44553198  0.30898128 -0.59416205  1.12997373\n",
      " -0.70373461 -0.53679058 -0.50477602 -0.47117121  0.33229668 -1.42869791\n",
      " -0.2810644  -0.09498916 -1.60269488 -1.09960929 -1.59522287 -0.49130106\n",
      "  1.09937866  0.02523195  0.21293071 -0.81063092 -1.45586617  0.26932061\n",
      "  0.12866074  0.32390974 -0.04525394 -0.38825166]\n"
     ]
    }
   ],
   "source": [
    "print(xsn)"
   ]
  },
  {
   "cell_type": "code",
   "execution_count": 5,
   "metadata": {},
   "outputs": [
    {
     "name": "stdout",
     "output_type": "stream",
     "text": [
      "[57.68447368 54.99943043 58.94917944 60.0292097  66.72632275 59.73727519\n",
      " 60.99948303 61.82726224 56.55531306 64.03594337 62.49074324 58.87642237\n",
      " 58.31855573 60.86009547 55.15185518 60.81904446 60.36659576 59.09162397\n",
      " 65.84674456 59.38999402 59.41651887 74.83264272 54.60865881 61.06361804\n",
      " 58.03147691 59.56674592 56.97292468 61.73341539 60.19974103 57.39872779\n",
      " 56.41505709 58.80871896 64.77808171 64.34191724 59.89581351 64.96447896\n",
      " 59.08601756 65.95771869 50.64948743 57.41256913 56.97282369 65.01055482\n",
      " 54.64813366 66.41778019 61.16356879 52.3978344  55.95499162 69.56870015\n",
      " 56.97793514 54.65948055 66.79483904 52.66741695 62.52550973 56.67524153\n",
      " 62.08384773 62.27339087 60.99700231 62.13275752 59.64408595 68.41233564\n",
      " 64.87909637 62.10256947 63.00358146 60.11424335 62.54840992 63.42095344\n",
      " 59.76304148 61.54461762 67.55423355 61.33704105 58.17113143 67.44260671\n",
      " 64.67288555 62.09826938 62.2276599  61.54490639 57.02918977 65.64986866\n",
      " 56.48132694 57.31604709 57.47611992 57.64414397 61.66148338 52.85651043\n",
      " 58.594678   59.5250542  51.9865256  54.50195355 52.02388567 57.54349469\n",
      " 65.49689329 60.12615976 61.06465353 55.94684542 52.72066916 61.34660307\n",
      " 60.6433037  61.6195487  59.77373031 58.0587417 ]\n"
     ]
    }
   ],
   "source": [
    "sigma =5\n",
    "u = 60\n",
    "X=xsn*sigma+u\n",
    "print(X)"
   ]
  },
  {
   "cell_type": "code",
   "execution_count": 7,
   "metadata": {},
   "outputs": [
    {
     "name": "stdout",
     "output_type": "stream",
     "text": [
      "[58. 55. 59. 60. 67. 60. 61. 62. 57. 64. 62. 59. 58. 61. 55. 61. 60. 59.\n",
      " 66. 59. 59. 75. 55. 61. 58. 60. 57. 62. 60. 57. 56. 59. 65. 64. 60. 65.\n",
      " 59. 66. 51. 57. 57. 65. 55. 66. 61. 52. 56. 70. 57. 55. 67. 53. 63. 57.\n",
      " 62. 62. 61. 62. 60. 68. 65. 62. 63. 60. 63. 63. 60. 62. 68. 61. 58. 67.\n",
      " 65. 62. 62. 62. 57. 66. 56. 57. 57. 58. 62. 53. 59. 60. 52. 55. 52. 58.\n",
      " 65. 60. 61. 56. 53. 61. 61. 62. 60. 58.]\n"
     ]
    }
   ],
   "source": [
    "X = np.round(xsn*sigma+u)\n",
    "print(X)"
   ]
  },
  {
   "cell_type": "code",
   "execution_count": 10,
   "metadata": {},
   "outputs": [
    {
     "data": {
      "image/png": "[encoded data removed]",
      "text/plain": [
       "<Figure size 576x396 with 1 Axes>"
      ]
     },
     "metadata": {},
     "output_type": "display_data"
    }
   ],
   "source": [
    "plt.style.use(\"seaborn\")\n",
    "plt.hist(X)\n",
    "plt.show()"
   ]
  },
  {
   "cell_type": "code",
   "execution_count": null,
   "metadata": {},
   "outputs": [],
   "source": []
  }
 ],
 "metadata": {
  "kernelspec": {
   "display_name": "Python 3",
   "language": "python",
   "name": "python3"
  },
  "language_info": {
   "codemirror_mode": {
    "name": "ipython",
    "version": 3
   },
   "file_extension": ".py",
   "mimetype": "text/x-python",
   "name": "python",
   "nbconvert_exporter": "python",
   "pygments_lexer": "ipython3",
   "version": "3.7.4"
  }
 },
 "nbformat": 4,
 "nbformat_minor": 2
}
