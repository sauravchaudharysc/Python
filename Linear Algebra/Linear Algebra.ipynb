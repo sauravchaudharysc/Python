{
 "cells": [
  {
   "cell_type": "markdown",
   "metadata": {},
   "source": [
    "# Linear Algebra\n",
    "Some basic linear algebra operation that can be performed using numpy."
   ]
  },
  {
   "cell_type": "markdown",
   "metadata": {},
   "source": [
    "Whenever you think of machine learning , just imagine a large amount of data . So that data need to be stored. The most common format in which data can be stored is :- \n",
    "    - Scalar\n",
    "    - Vector\n",
    "    - Matrices\n",
    "    - Tensor"
   ]
  },
  {
   "cell_type": "markdown",
   "metadata": {},
   "source": [
    "## 1. Scalars & Vectors\n",
    "    - Scalar is a single number,denoted as x\n",
    "    - Vector is an array of scalars,denoted by x    \n",
    "        - Thus, a vector has n scalars x1,x2..xn\n",
    "        - Note that indexing here begins with 1,unlike python(where it begins with 0)\n",
    "        - Vector can a row vector or column vector. By default vector is column vector.\n",
    "        - We use numpy array to create vector in python."
   ]
  },
  {
   "cell_type": "code",
   "execution_count": 2,
   "metadata": {},
   "outputs": [
    {
     "name": "stdout",
     "output_type": "stream",
     "text": [
      "[4 5 6]\n",
      "(3,)\n",
      "[[4]\n",
      " [5]\n",
      " [6]]\n",
      "(3, 1)\n"
     ]
    }
   ],
   "source": [
    "import numpy as np\n",
    "x = np.array([4,5,6])\n",
    "print(x)\n",
    "print(x.shape)\n",
    "x = np.array([[4],[5],[6]])\n",
    "print(x)\n",
    "print(x.shape)"
   ]
  },
  {
   "cell_type": "markdown",
   "metadata": {},
   "source": [
    "#### UseCase\n",
    "Suppose we have a image containing a single face. So to store the face of that person we can use a vector to draw a bounding box along the face."
   ]
  },
  {
   "cell_type": "markdown",
   "metadata": {},
   "source": [
    "## 2. Matrices & Tensor"
   ]
  },
  {
   "cell_type": "markdown",
   "metadata": {},
   "source": [
    "Matrix is a 2D array of scalars, denoted by X\n",
    "The matrix has m rows and n columns\n",
    "Each inidividual element such as X(1,1) is a scalar\n",
    "If m==n, the matrix is know as Square Matrix\n",
    "\n",
    "#### UseCase\n",
    "Suppose we have a image containing a multiple faces. So to store the face of that persons we can use a matrix where each row represent a vector to draw a bounding box along the faces."
   ]
  },
  {
   "cell_type": "code",
   "execution_count": 5,
   "metadata": {},
   "outputs": [
    {
     "name": "stdout",
     "output_type": "stream",
     "text": [
      "(3, 4)\n",
      "[[ 4  5  7 10 10 12]\n",
      " [15 18 18 28 23 25]]\n",
      "(2, 6)\n"
     ]
    }
   ],
   "source": [
    "X = np.array([[4,5,7,10],\n",
    "                 [10,12,15,18],\n",
    "                     [18,28,23,25],])\n",
    "print(X.shape)\n",
    "X=X.reshape((2,6))\n",
    "print(X)\n",
    "print(X.shape)"
   ]
  },
  {
   "cell_type": "markdown",
   "metadata": {},
   "source": [
    "Tensor in an array with more than 2 axes, denoted as X\n",
    "    - Think of tensor as a generalization of an array with more than 2 axes.\n",
    "    \n",
    "An image i.e (R,G,B) image can be supposed as tensor because it is stored in 3 axes."
   ]
  },
  {
   "cell_type": "code",
   "execution_count": 14,
   "metadata": {},
   "outputs": [
    {
     "name": "stdout",
     "output_type": "stream",
     "text": [
      "[[[0 0 0]\n",
      "  [0 0 0]\n",
      "  [0 0 0]\n",
      "  [0 0 0]\n",
      "  [0 0 0]]\n",
      "\n",
      " [[0 0 0]\n",
      "  [0 0 0]\n",
      "  [0 0 0]\n",
      "  [0 0 0]\n",
      "  [0 0 0]]\n",
      "\n",
      " [[0 0 0]\n",
      "  [0 0 0]\n",
      "  [0 0 0]\n",
      "  [0 0 0]\n",
      "  [0 0 0]]\n",
      "\n",
      " [[0 0 0]\n",
      "  [0 0 0]\n",
      "  [0 0 0]\n",
      "  [0 0 0]\n",
      "  [0 0 0]]\n",
      "\n",
      " [[0 0 0]\n",
      "  [0 0 0]\n",
      "  [0 0 0]\n",
      "  [0 0 0]\n",
      "  [0 0 0]]]\n"
     ]
    },
    {
     "data": {
      "image/png": "[encoded data removed]",
      "text/plain": [
       "<Figure size 432x288 with 1 Axes>"
      ]
     },
     "metadata": {
      "needs_background": "light"
     },
     "output_type": "display_data"
    }
   ],
   "source": [
    "T = np.zeros((5,5,3),dtype='uint8')\n",
    "print(T)\n",
    "T[ : , : ,2]=55\n",
    "import matplotlib.pyplot as plt\n",
    "plt.imshow(T)\n",
    "plt.show()"
   ]
  },
  {
   "cell_type": "markdown",
   "metadata": {},
   "source": [
    "## 2. Transpose\n",
    "\n",
    "The transpose of a matrix is an operator which flips a matrix over its diagonal."
   ]
  },
  {
   "cell_type": "code",
   "execution_count": 35,
   "metadata": {},
   "outputs": [],
   "source": [
    "X = np.ones((8,1),dtype='uint8')"
   ]
  },
  {
   "cell_type": "code",
   "execution_count": 39,
   "metadata": {},
   "outputs": [
    {
     "name": "stdout",
     "output_type": "stream",
     "text": [
      "[[ 9]\n",
      " [ 1]\n",
      " [ 8]\n",
      " [18]\n",
      " [78]\n",
      " [28]\n",
      " [ 1]\n",
      " [ 1]]\n",
      "[[ 9  1  8 18 78 28  1  1]]\n"
     ]
    }
   ],
   "source": [
    "X[0][0]=9\n",
    "X[2][0]=8\n",
    "X[3][0]=18\n",
    "X[5][0]=28\n",
    "X[4][0]=78\n",
    "print(X)\n",
    "X=X.T\n",
    "print(X)"
   ]
  },
  {
   "cell_type": "code",
   "execution_count": 41,
   "metadata": {},
   "outputs": [
    {
     "name": "stdout",
     "output_type": "stream",
     "text": [
      "[[ 9  1  8 18]\n",
      " [78 28  1  1]]\n"
     ]
    }
   ],
   "source": [
    "X = X.reshape((2,-1))\n",
    "print(X)"
   ]
  },
  {
   "cell_type": "code",
   "execution_count": 42,
   "metadata": {},
   "outputs": [
    {
     "name": "stdout",
     "output_type": "stream",
     "text": [
      "[[ 9 78]\n",
      " [ 1 28]\n",
      " [ 8  1]\n",
      " [18  1]]\n"
     ]
    }
   ],
   "source": [
    "print(X.T)"
   ]
  },
  {
   "cell_type": "code",
   "execution_count": 50,
   "metadata": {},
   "outputs": [
    {
     "name": "stdout",
     "output_type": "stream",
     "text": [
      "[[ 0  0 55]\n",
      " [ 0  0 55]\n",
      " [ 0  0 55]\n",
      " [ 0  0 55]\n",
      " [ 0  0 55]]\n",
      "(5, 5, 3)\n",
      "(5, 3, 5)\n",
      "(3,)\n",
      "(5,)\n"
     ]
    }
   ],
   "source": [
    "#Transponse of tensor\n",
    "T.shape\n",
    "print(T[0])\n",
    "T1 = np.transpose(T,axes=(0,2,1))\n",
    "print(T.shape)\n",
    "print(T1.shape)\n",
    "print(T[0][0].shape)\n",
    "print(T1[0][0].shape)"
   ]
  },
  {
   "cell_type": "markdown",
   "metadata": {},
   "source": [
    "## 4. Broadcasting\n",
    "\n",
    "A special feature that is available in numpy which allows us to add a scalar to a vector and numpy will add it to each element in the vector.\n",
    "\n",
    "x+a = xi+a\n",
    "\n",
    "###### This feature is only available for numpy array"
   ]
  },
  {
   "cell_type": "code",
   "execution_count": 51,
   "metadata": {},
   "outputs": [
    {
     "name": "stdout",
     "output_type": "stream",
     "text": [
      "[1 2 3 4]\n",
      "[5 6 7 8]\n"
     ]
    }
   ],
   "source": [
    "x = np.array([1,2,3,4])\n",
    "print(x)\n",
    "print(x+4)"
   ]
  },
  {
   "cell_type": "code",
   "execution_count": 52,
   "metadata": {},
   "outputs": [
    {
     "name": "stdout",
     "output_type": "stream",
     "text": [
      "[[10 20 30 40]\n",
      " [40 50 60 70]]\n",
      "[[11 22 33 44]\n",
      " [41 52 63 74]]\n"
     ]
    }
   ],
   "source": [
    "X = np.array([[10,20,30,40],\n",
    "             [40,50,60,70]])\n",
    "print(X)\n",
    "print(X+x)"
   ]
  },
  {
   "cell_type": "markdown",
   "metadata": {},
   "source": [
    "#### Use Case\n",
    "In neural networks"
   ]
  },
  {
   "cell_type": "markdown",
   "metadata": {},
   "source": [
    "## 5. Matrix Multiplication or Dot Product"
   ]
  },
  {
   "cell_type": "code",
   "execution_count": 55,
   "metadata": {},
   "outputs": [
    {
     "data": {
      "image/png": "[encoded data removed]",
      "text/plain": [
       "<IPython.core.display.Image object>"
      ]
     },
     "execution_count": 55,
     "metadata": {},
     "output_type": "execute_result"
    }
   ],
   "source": [
    "from IPython.display import Image\n",
    "Image(filename='matrix-multiplication.png')"
   ]
  },
  {
   "cell_type": "markdown",
   "metadata": {},
   "source": [
    "## 6. Element Wise Multiplication : Hadamard Product"
   ]
  },
  {
   "cell_type": "code",
   "execution_count": 54,
   "metadata": {},
   "outputs": [
    {
     "data": {
      "text/plain": [
       "array([[0, 4],\n",
       "       [9, 8]])"
      ]
     },
     "execution_count": 54,
     "metadata": {},
     "output_type": "execute_result"
    }
   ],
   "source": [
    "#C[i][j]=A[i][j]*B[i][j]\n",
    "A = np.array([[1,2],\n",
    "             [3,4]])\n",
    "B = np.array(([[0,2],\n",
    "             [3,2]]))\n",
    "A*B"
   ]
  },
  {
   "cell_type": "markdown",
   "metadata": {},
   "source": [
    "## 7. Norms"
   ]
  },
  {
   "cell_type": "markdown",
   "metadata": {},
   "source": [
    "Norm can be though as a proxy for a size of a vector.\n",
    "\n",
    "The length of a vector is a nonnegative number that describes the extent of the vector in space, and is sometimes referred to as the vector’s magnitude or the norm."
   ]
  },
  {
   "cell_type": "code",
   "execution_count": 69,
   "metadata": {},
   "outputs": [],
   "source": [
    "x = np.array([[2,,4])"
   ]
  },
  {
   "cell_type": "markdown",
   "metadata": {},
   "source": [
    "#### Vector L1 Norm\n",
    "The length of a vector can be calculated using the L1 norm, where the 1 is a superscript of the L, e.g. L^1.\n",
    "\n",
    "The notation for the L1 norm of a vector is ||v||1, where 1 is a subscript. As such, this length is sometimes called the taxicab norm or the Manhattan norm.\n",
    "\n",
    "The L1 norm is calculated as the sum of the absolute vector values, where the absolute value of a scalar uses the notation |a1|.\n",
    "\n",
    "||v||1 = |a1| + |a2| + |a3|\n",
    "\n",
    "The L1 norm is often used when fitting machine learning algorithms as a regularization method, e.g. a method to keep the coefficients of the model small, and in turn, the model less complex."
   ]
  },
  {
   "cell_type": "code",
   "execution_count": 59,
   "metadata": {},
   "outputs": [
    {
     "name": "stdout",
     "output_type": "stream",
     "text": [
      "7.0\n"
     ]
    }
   ],
   "source": [
    "l1 = np.linalg.norm(x,ord=1)\n",
    "print(l1)"
   ]
  },
  {
   "cell_type": "markdown",
   "metadata": {},
   "source": [
    "#### Vector L2 Norm\n",
    "The length of a vector can be calculated using the L2 norm, where the 2 is a superscript of the L, e.g. L^2.\n",
    "\n",
    "The notation for the L2 norm of a vector is ||v||2 where 2 is a subscript.\n",
    "The L2 norm calculates the distance of the vector coordinate from the origin of the vector space. As such, it is also known as the Euclidean norm as it is calculated as the Euclidean distance from the origin. The result is a positive distance value.\n",
    "\n",
    "The L2 norm is calculated as the square root of the sum of the squared vector values.\n",
    "\n",
    "||v||2 = sqrt(a1^2 + a2^2 + a3^2)\n",
    "1\n",
    "||v||2 = sqrt(a1^2 + a2^2 + a3^2)\n",
    "\n",
    "Like the L1 norm, the L2 norm is often used when fitting machine learning algorithms as a regularization method, e.g. a method to keep the coefficients of the model small and, in turn, the model less complex."
   ]
  },
  {
   "cell_type": "code",
   "execution_count": 71,
   "metadata": {},
   "outputs": [
    {
     "name": "stdout",
     "output_type": "stream",
     "text": [
      "6.0\n"
     ]
    }
   ],
   "source": [
    "lp2 = np.linalg.norm(x)\n",
    "print(lp2)"
   ]
  },
  {
   "cell_type": "markdown",
   "metadata": {},
   "source": [
    "#### Vector Max Norm\n",
    "\n",
    "The length of a vector can be calculated using the maximum norm, also called max norm.\n",
    "\n",
    "Max norm of a vector is referred to as L^inf where inf is a superscript and can be represented with the infinity symbol. The notation for max norm is ||x||inf, where inf is a subscript.\n",
    "\n",
    "The max norm is calculated as returning the maximum value of the vector, hence the name.\n",
    "\n",
    "||v||inf = max(|a1|, |a2|, |a3|)\n",
    "\n",
    "Max norm is also used as a regularization in machine learning, such as on neural network weights, called max norm regularization."
   ]
  },
  {
   "cell_type": "code",
   "execution_count": 70,
   "metadata": {},
   "outputs": [
    {
     "name": "stdout",
     "output_type": "stream",
     "text": [
      "7.0\n"
     ]
    }
   ],
   "source": [
    "lpinf = np.linalg.norm(x,ord=np.inf)\n",
    "print(lpinf)"
   ]
  },
  {
   "cell_type": "markdown",
   "metadata": {},
   "source": [
    "## 8. Determinants"
   ]
  },
  {
   "cell_type": "code",
   "execution_count": 62,
   "metadata": {},
   "outputs": [
    {
     "name": "stdout",
     "output_type": "stream",
     "text": [
      "-2.0000000000000004\n"
     ]
    }
   ],
   "source": [
    "A = np.array([[1,2],\n",
    "              [3,4]])\n",
    "print(np.linalg.det(A))"
   ]
  },
  {
   "cell_type": "markdown",
   "metadata": {},
   "source": [
    "## 9. Inverse"
   ]
  },
  {
   "cell_type": "code",
   "execution_count": 65,
   "metadata": {},
   "outputs": [
    {
     "name": "stdout",
     "output_type": "stream",
     "text": [
      "[[-2.   1. ]\n",
      " [ 1.5 -0.5]]\n",
      "[[1.00000000e+00 1.11022302e-16]\n",
      " [0.00000000e+00 1.00000000e+00]]\n",
      "[[-2.   1. ]\n",
      " [ 1.5 -0.5]]\n"
     ]
    }
   ],
   "source": [
    "Ainv = np.linalg.inv(A)\n",
    "print(Ainv)\n",
    "print(np.dot(A,Ainv))\n",
    "\n",
    "#psuedo inverse\n",
    "#for non zero it produces same as inverse\n",
    "\n",
    "pinv = np.linalg.pinv(A)\n",
    "print(pinv)"
   ]
  },
  {
   "cell_type": "markdown",
   "metadata": {},
   "source": [
    "## 10. Solve a System of Equations"
   ]
  },
  {
   "cell_type": "code",
   "execution_count": 67,
   "metadata": {},
   "outputs": [],
   "source": [
    "# AX=B\n",
    "a = np.array([[2,3],[3,1]])\n",
    "b = np.array([8,5])"
   ]
  },
  {
   "cell_type": "code",
   "execution_count": 68,
   "metadata": {},
   "outputs": [
    {
     "data": {
      "text/plain": [
       "array([1., 2.])"
      ]
     },
     "execution_count": 68,
     "metadata": {},
     "output_type": "execute_result"
    }
   ],
   "source": [
    "np.linalg.solve(a,b)"
   ]
  },
  {
   "cell_type": "code",
   "execution_count": null,
   "metadata": {},
   "outputs": [],
   "source": []
  }
 ],
 "metadata": {
  "kernelspec": {
   "display_name": "Python 3",
   "language": "python",
   "name": "python3"
  },
  "language_info": {
   "codemirror_mode": {
    "name": "ipython",
    "version": 3
   },
   "file_extension": ".py",
   "mimetype": "text/x-python",
   "name": "python",
   "nbconvert_exporter": "python",
   "pygments_lexer": "ipython3",
   "version": "3.7.4"
  }
 },
 "nbformat": 4,
 "nbformat_minor": 2
}
